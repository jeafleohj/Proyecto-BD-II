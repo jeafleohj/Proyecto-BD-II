{
 "cells": [
  {
   "cell_type": "markdown",
   "metadata": {},
   "source": [
    "1. Funcion de limpieza"
   ]
  },
  {
   "cell_type": "code",
   "execution_count": 1,
   "metadata": {},
   "outputs": [],
   "source": [
    "import re\n",
    "sw = open(\"stopwords.txt\", 'r').read().split(\"\\n\")\n",
    "def cleanSW(text):\n",
    "    global sw\n",
    "    text = re.sub(r'[^[a-zñA-ZÑáéíóúÁÉÍÓÚüÜ ]]*', \"\", text).replace(\"_\",\" \").lower()\n",
    "    clean = []\n",
    "    for i in text.split(\" \"):\n",
    "        if i not in sw:\n",
    "            clean.append(i)\n",
    "    return clean"
   ]
  },
  {
   "cell_type": "markdown",
   "metadata": {},
   "source": [
    "2. Índice invertido"
   ]
  },
  {
   "cell_type": "code",
   "execution_count": 2,
   "metadata": {},
   "outputs": [],
   "source": [
    "import json\n",
    "from pprint import pprint\n",
    "with open(\"tweets.json\") as f:\n",
    "    data = json.load(f)\n",
    "n_doc = len(data)\n",
    "def invertedIndex(data):\n",
    "    inv = {}\n",
    "    ids = {}\n",
    "    for i in data:\n",
    "        text = cleanSW(i[\"text\"])\n",
    "        for word in text:\n",
    "            if word in inv:\n",
    "                #frec_words[word] = frec_words[word]+1\n",
    "                if i[\"id\"] in inv[word]:\n",
    "                    inv[word][i[\"id\"]] = inv[word][i[\"id\"]]+1\n",
    "                else:\n",
    "                    inv[word][i[\"id\"]] = 1\n",
    "            else:\n",
    "                inv[word] = {}\n",
    "                inv[word][i[\"id\"]] = 1\n",
    "        ids[i['id']] = i[\"text\"]\n",
    "    for key in inv:\n",
    "        inv[key][\"df\"] = len(inv[key])\n",
    "    return inv, ids\n",
    "inv, ids = invertedIndex(data)"
   ]
  },
  {
   "cell_type": "markdown",
   "metadata": {},
   "source": [
    "3. Implementación de TF-IDF"
   ]
  },
  {
   "cell_type": "code",
   "execution_count": 3,
   "metadata": {},
   "outputs": [],
   "source": [
    "import math\n",
    "def tf_idf(n_doc,word, inv,_id):\n",
    "    if word not in inv:\n",
    "        return 0\n",
    "    idf = math.log10( n_doc/inv[word][\"df\"] )\n",
    "    return idf * math.log10(1+inv[word][_id])"
   ]
  },
  {
   "cell_type": "markdown",
   "metadata": {},
   "source": [
    "4. Normalize tweets"
   ]
  },
  {
   "cell_type": "code",
   "execution_count": 4,
   "metadata": {},
   "outputs": [],
   "source": [
    "def Normalize(vector):\n",
    "    norm = 0\n",
    "    for v in vector:\n",
    "        norm += vector[v]*vector[v] \n",
    "    norm = math.sqrt(norm)\n",
    "    for i in vector:\n",
    "        vector[i] /= norm\n",
    "    return vector\n",
    "def generateTable():\n",
    "    global ids\n",
    "    table = {}\n",
    "    for _id in ids:\n",
    "        text = cleanSW(ids[_id])\n",
    "        frec = {}\n",
    "        table[_id] = {}\n",
    "        for word in text:\n",
    "            if word in frec:\n",
    "                frec[word] += 1\n",
    "            else:\n",
    "                frec[word] = 0\n",
    "        for w in frec:\n",
    "            if w not in table:\n",
    "                table[_id][w] = {}\n",
    "            table[_id][w] = tf_idf(n_doc,w,inv,_id)\n",
    "    for doc in table:\n",
    "        vector = table[doc]\n",
    "        vector = Normalize(vector)\n",
    "    return table\n",
    "table = generateTable()"
   ]
  },
  {
   "cell_type": "markdown",
   "metadata": {},
   "source": [
    "5. Implementación de la similitud de cosenos"
   ]
  },
  {
   "cell_type": "code",
   "execution_count": 5,
   "metadata": {},
   "outputs": [],
   "source": [
    "def cosineScore(Q):\n",
    "    global n_doc, inv, table\n",
    "    Q = cleanSW(Q)\n",
    "    query = {}\n",
    "    for i in Q:\n",
    "        if i not in query:\n",
    "            query[i] = 1\n",
    "        else: \n",
    "            query[i] += 1\n",
    "    query = Normalize(query)\n",
    "    coss = {}\n",
    "    for i in query:\n",
    "        for _id in table:\n",
    "            coss[_id] = 0\n",
    "            #print(table[_id])\n",
    "            for word in table[_id]:\n",
    "                if i == word:\n",
    "                    coss[_id] += query[i]*table[_id][word]\n",
    "            if coss[_id]==0:\n",
    "                del coss[_id]\n",
    "    return coss\n",
    "\n",
    "#ids"
   ]
  },
  {
   "cell_type": "markdown",
   "metadata": {},
   "source": [
    "## Consultas"
   ]
  },
  {
   "cell_type": "markdown",
   "metadata": {},
   "source": [
    "1. \"Lima necesita calidad en la gestión\""
   ]
  },
  {
   "cell_type": "code",
   "execution_count": 6,
   "metadata": {},
   "outputs": [
    {
     "name": "stdout",
     "output_type": "stream",
     "text": [
      "id: 1046556941034692608\n",
      "score: 0.2319293631699373\n",
      "Documento: Por favor! Su gestión fue un desastre \n",
      "\n",
      "id: 1046560221265645568\n",
      "score: 0.18074344082846444\n",
      "Documento: #DitelElChino #LimaKonDitel por su experiencia en gestión municipal #VamosKonFuerza #VamosDitelVamos \n",
      "\n",
      "id: 1046442221694791680\n",
      "score: 0.1733153564104291\n",
      "Documento: ¿En toda su gestión, cuantas veces Muñoz se enfrentó a Castañeda? \n",
      "\n",
      "id: 1046543568238665729\n",
      "score: 0.1691606204702285\n",
      "Documento: Su gran obra será investigar la gestión anterior, lo mismo que Ollanta y Villaran. \n",
      "\n",
      "id: 1046588115731861505\n",
      "score: 0.16865113990170053\n",
      "Documento: @Capital967 @GomezBacaxLima Hay que investigar su gestión en la municipalidad de surco... \n",
      "\n",
      "id: 1046552020646154245\n",
      "score: 0.15753342864358402\n",
      "Documento: Ditel Columbus dales clases de gestión municipal \n",
      "\n",
      "id: 1046465193503584258\n",
      "score: 0.15255644674449167\n",
      "Documento: @BrunoGEsc @JorgeMunozAP Y claro le falta mucho sobre gestión de residuos sólidos ...y será un trabajo del siguiente alcalde o alcaldesa ... sin embargo creo que se avanzó mucho en gestión municipal ... me gusta #Miraflores y mucho ... \n",
      "\n",
      "id: 1046587319296380928\n",
      "score: 0.14636147299065186\n",
      "Documento: RT @Fabiolatuitea: @Capital967 Siempre es así. Manuel Velarde durante toda su gestión iba en bicicleta al trabajo. Y su propuesta es dar pr… \n",
      "\n",
      "id: 1046622142849306624\n",
      "score: 0.14614861907790988\n",
      "Documento: #LimaKonDitel #LimaKonDitel porque #PonjaSabe de gestión municipal, sabe como dar solución a los problemas de Lima olvidada #LimaKonDitel \n",
      "\n",
      "id: 1046595797482131457\n",
      "score: 0.14597122631469747\n",
      "Documento: Julio Gagó dice que el presidente @MartinVizcarraC quiere promover a la familia gay .. Eso que tiene que ver con gestión municipal !! @juliogagope #DebateMunicipal \n",
      "\n"
     ]
    }
   ],
   "source": [
    "Q1 = \"Lima necesita calidad en la gestión\"\n",
    "cs = cosineScore(Q1)\n",
    "q1s = sorted(cs, key=lambda x: cs[x], reverse=True)[:10]\n",
    "for i in q1s:\n",
    "    print(\"id:\", i)\n",
    "    print(\"score:\",cs[i])\n",
    "    print(\"Documento:\",ids[i],\"\\n\")"
   ]
  },
  {
   "cell_type": "markdown",
   "metadata": {},
   "source": [
    "2. \"Corrupción en Los Olivos\""
   ]
  },
  {
   "cell_type": "code",
   "execution_count": 7,
   "metadata": {},
   "outputs": [
    {
     "name": "stdout",
     "output_type": "stream",
     "text": [
      "id: 1046584104773447682\n",
      "score: 0.2667862479079303\n",
      "Documento: RT @marcelo_cruz_al: Siempre Unidos, partido liderado por Felipe Castillo, cabeza de un grupo de poder que hace lo que quiere en Los Olivos… \n",
      "\n",
      "id: 1046562839085887488\n",
      "score: 0.2565621351029574\n",
      "Documento: @ManuelVelardeD: 12 mil millones de soles, nos roba la corrupcion en Lima\", lo mismo que Felipe Castillo le robó a la Municipalidad de los Olivos. \n",
      "\n",
      "id: 1046557767392219138\n",
      "score: 0.24446502883252316\n",
      "Documento: Siempre Unidos, partido liderado por Felipe Castillo, cabeza de un grupo de poder que hace lo que quiere en Los Olivos. La doble moral de Velarde más presente que nunca. \n",
      "\n",
      "id: 1046557446578343936\n",
      "score: 0.23634746028923878\n",
      "Documento: @patarevalo @ManuelVelardeD ¿Velarde es el candidato de Siempre Unidos, el partido de Felipe Castillo sentenciado por desvío de fondos en la Municipalidad de Los Olivos? \n",
      "\n",
      "id: 1046594248269860865\n",
      "score: 0.20521184104427453\n",
      "Documento: @ManuelVelardeD Una duda muy grande, hablas de combatir la corrupción pero dentro de tu partido tienes a Felipe Castillo quien ha sido procesado por Malversación de fondos en la Municipalidad de Los Olivos... ¿Coherencia? \n",
      "\n",
      "id: 1046565212160249861\n",
      "score: 0.1908208642777327\n",
      "Documento: RT @missysv: Amigui ven a lima norte (smp, los olivos, independencia, etc), anda a SJL, es tu última semana. Créeme que yendo de caravana e… \n",
      "\n",
      "id: 1046568082871865345\n",
      "score: 0.1908208642777327\n",
      "Documento: RT @missysv: Amigui ven a lima norte (smp, los olivos, independencia, etc), anda a SJL, es tu última semana. Créeme que yendo de caravana e… \n",
      "\n",
      "id: 1046482350094397440\n",
      "score: 0.18830278597457475\n",
      "Documento: @FlorMariaJimne1 @reynaga_alfredo @Renzo_Reggiardo @pps_peru Lo Votaron de Los Olivos con denuncias tiene 3 amantes que lo denunciaron por no darle manutención a sus hijos y es el que quiere ser tu alcalde??? \n",
      "\n",
      "id: 1046584393345781761\n",
      "score: 0.1860983327097851\n",
      "Documento: @Capital967 @RicardoBelmontC Ya existen y se dan cursos , las piscinas son gigantes y mencionare 2 lloque yupanqui en los olivos y sinchi roca en comas, no se q habla \n",
      "\n",
      "id: 1046564621820329984\n",
      "score: 0.18100995618571394\n",
      "Documento: Amigui ven a lima norte (smp, los olivos, independencia, etc), anda a SJL, es tu última semana. Créeme que yendo de caravana en san Isidro, Miraflores y jockey, no la haces. \n",
      "\n"
     ]
    }
   ],
   "source": [
    "Q2 = \"Corrupción en los olivos\"\n",
    "cs = cosineScore(Q2)\n",
    "q2s = sorted(cs, key=lambda x: cs[x], reverse=True)[:10]\n",
    "for i in q2s:\n",
    "    print(\"id:\", i)\n",
    "    print(\"score:\",cs[i])\n",
    "    print(\"Documento:\",ids[i],\"\\n\")"
   ]
  },
  {
   "cell_type": "markdown",
   "metadata": {},
   "source": [
    "3. \"Mentiras y psicosociales\""
   ]
  },
  {
   "cell_type": "code",
   "execution_count": 8,
   "metadata": {},
   "outputs": [
    {
     "name": "stdout",
     "output_type": "stream",
     "text": [
      "id: 1046313071625555968\n",
      "score: 0.31026010662528425\n",
      "Documento: @rmapalacios @JorgeMunozAP Psicosociales como el celular encontrado a Montesinos el día anterior de las últimas elecciones presidenciales? \n",
      "\n",
      "id: 1046487089490141184\n",
      "score: 0.26239587175470985\n",
      "Documento: Cada vez más creativos los psicosociales @SolCn @rmapalacios @deslengua_2 @AlbertoBelaunde @aleja_puente @TatiAleman @DiarioDeCurwen @JorgeMunozAP https://t.co/CaqpT6Is6g \n",
      "\n",
      "id: 1046402611136606209\n",
      "score: 0.21641134371593337\n",
      "Documento: La guerra sucia otra vez, Lamentablemente los peruanos tenemos muy malos ejemplos en las últimas décadas de lo que es diarios chicha psicosociales y demas suciedad de la cual debemos salir algún día \n",
      "\n",
      "id: 1046388841324728322\n",
      "score: 0.2068385476167681\n",
      "Documento: @rmapalacios @JorgeMunozAP Pero siempre es así la prensa es k que al final manipula a la gente. O acaso cree. Que urresti esta 2 o que belmot 3 son PSICOSOCIALES que influyen en la decisión de menos pensantes. O acaso DATUM ES COFIABLE O SU ENCUESTA DE 1000 PERSONAS ES TODO LIMA \n",
      "\n",
      "id: 1046385539493089280\n",
      "score: 0.15261562987130176\n",
      "Documento: @salvajedigital @DanielUrresti1 Correcto lis naranjas e infiltrados sudan frio los cuadros de asalto evaluados y bendecidos por la sra K y presentados por la tia SIN no arrugan se espera mejores psicosociales que fotos de Muñoz con Odebrecht vamos fujis si se puede robar es fácil \n",
      "\n"
     ]
    }
   ],
   "source": [
    "Q3 = \"Mentiras y psicosociales\"\n",
    "cs = cosineScore(Q3)\n",
    "q3s = sorted(cs, key=lambda x: cs[x], reverse=True)[:10]\n",
    "for i in q3s:\n",
    "    print(\"id:\", i)\n",
    "    print(\"score:\",cs[i])\n",
    "    print(\"Documento:\",ids[i],\"\\n\")"
   ]
  }
 ],
 "metadata": {
  "kernelspec": {
   "display_name": "Python 3",
   "language": "python",
   "name": "python3"
  },
  "language_info": {
   "codemirror_mode": {
    "name": "ipython",
    "version": 3
   },
   "file_extension": ".py",
   "mimetype": "text/x-python",
   "name": "python",
   "nbconvert_exporter": "python",
   "pygments_lexer": "ipython3",
   "version": "3.7.3"
  }
 },
 "nbformat": 4,
 "nbformat_minor": 2
}
