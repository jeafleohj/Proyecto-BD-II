{
 "cells": [
  {
   "cell_type": "markdown",
   "metadata": {},
   "source": [
    "1. Funcion de limpieza"
   ]
  },
  {
   "cell_type": "code",
   "execution_count": 1,
   "metadata": {},
   "outputs": [],
   "source": [
    "import re\n",
    "sw = open(\"stopwords.txt\", 'r').read().split(\"\\n\")\n",
    "def cleanSW(text):\n",
    "    global sw\n",
    "    text = re.sub(r'[^[a-zñA-ZÑáéíóúÁÉÍÓÚüÜ ]]*', \"\", text).replace(\"_\",\" \").lower()\n",
    "    clean = []\n",
    "    for i in text.split(\" \"):\n",
    "        if i not in sw:\n",
    "            clean.append(i)\n",
    "    return clean"
   ]
  },
  {
   "cell_type": "markdown",
   "metadata": {},
   "source": [
    "2. Índice invertido"
   ]
  },
  {
   "cell_type": "code",
   "execution_count": 2,
   "metadata": {},
   "outputs": [],
   "source": [
    "import json\n",
    "from pprint import pprint\n",
    "with open(\"tweets.json\") as f:\n",
    "    data = json.load(f)\n",
    "n_doc = len(data)\n",
    "def invertedIndex(data):\n",
    "    inv = {}\n",
    "    for i in data:\n",
    "        text = cleanSW(i[\"text\"])\n",
    "        for word in text:\n",
    "            if word in inv:\n",
    "                #frec_words[word] = frec_words[word]+1\n",
    "                if i[\"id\"] in inv[word]:\n",
    "                    inv[word][i[\"id\"]] = inv[word][i[\"id\"]]+1\n",
    "                else:\n",
    "                    inv[word][i[\"id\"]] = 1\n",
    "            else:\n",
    "                inv[word] = {}\n",
    "                inv[word][i[\"id\"]] = 1\n",
    "    for key in inv:\n",
    "        inv[key][\"idf\"] = len(inv[key])\n",
    "    return inv\n",
    "inv = invertedIndex(data)"
   ]
  },
  {
   "cell_type": "markdown",
   "metadata": {},
   "source": [
    "3. Implementación de TF-IDF"
   ]
  },
  {
   "cell_type": "code",
   "execution_count": 3,
   "metadata": {},
   "outputs": [],
   "source": [
    "import math\n",
    "def tf_idf(n_doc,word, inv,_id):\n",
    "    if word not in inv:\n",
    "        return 0\n",
    "    return (math.log10(n_doc/inv[word][\"idf\"])+1)*inv[word][_id]"
   ]
  },
  {
   "cell_type": "markdown",
   "metadata": {},
   "source": [
    "4. Implementación de la similitud de cosenos"
   ]
  },
  {
   "cell_type": "code",
   "execution_count": 4,
   "metadata": {},
   "outputs": [],
   "source": [
    "def Normalize(vector):\n",
    "    norm = 0\n",
    "    for v in vector:\n",
    "        norm += vector[v]*vector[v] \n",
    "    norm = math.sqrt(norm)\n",
    "    for i in vector:\n",
    "        vector[i] /= norm\n",
    "    return vector\n",
    "def cosineScore(Q,inv):\n",
    "    global n_doc\n",
    "    Q = cleanSW(Q)\n",
    "    table = {}\n",
    "    for word in Q:\n",
    "        for i in inv[word]:\n",
    "            if i not in table:\n",
    "                table[i] = {}\n",
    "            table[i][word] = tf_idf(n_doc,word,inv,i)\n",
    "    \n",
    "    for doc in table:\n",
    "        vector = table[doc]\n",
    "        vector = Normalize(vector)\n",
    "        \n",
    "    query = {}\n",
    "    for i in Q:\n",
    "        if i not in query:\n",
    "            query[i] = 1\n",
    "        else: \n",
    "            query[i] += 1\n",
    "    query = Normalize(query)\n",
    "    coss = {}\n",
    "    for i in query:\n",
    "        for _id in table:\n",
    "            coss[_id] = 0\n",
    "            for word in table[_id]:\n",
    "                if i == word:\n",
    "                    coss[_id] += query[i]*table[_id][word]\n",
    "    return coss"
   ]
  },
  {
   "cell_type": "markdown",
   "metadata": {},
   "source": [
    "## Consultas"
   ]
  },
  {
   "cell_type": "code",
   "execution_count": 5,
   "metadata": {},
   "outputs": [],
   "source": [
    "def score(query, n):\n",
    "    global inv\n",
    "    score1 = cosineScore(Q1,inv)\n",
    "    scores = {}\n",
    "    for i in score1:\n",
    "        if score1[i]:\n",
    "            scores[i]= score1[i]\n",
    "    top = sorted(scores, key=lambda x: scores[x], reverse=True)[:n]\n",
    "    topn = {}\n",
    "    for i in top:\n",
    "        topn[i] = scores[i]\n",
    "    return topn"
   ]
  },
  {
   "cell_type": "markdown",
   "metadata": {},
   "source": [
    "1. \"Las pruestas de Muñoz\""
   ]
  },
  {
   "cell_type": "code",
   "execution_count": 6,
   "metadata": {},
   "outputs": [
    {
     "data": {
      "text/plain": [
       "{1046263372675788800: 0.7071067811865475,\n",
       " 1046263792840126464: 0.7071067811865475,\n",
       " 1046263910540738565: 0.7071067811865475,\n",
       " 1046263969118408705: 0.7071067811865475,\n",
       " 1046264126513844224: 0.7071067811865475,\n",
       " 1046264204745986048: 0.7071067811865475,\n",
       " 1046264347918577665: 0.7071067811865475,\n",
       " 1046264584712192000: 0.7071067811865475,\n",
       " 1046264599341912064: 0.7071067811865475,\n",
       " 1046264647433834496: 0.7071067811865475}"
      ]
     },
     "execution_count": 6,
     "metadata": {},
     "output_type": "execute_result"
    }
   ],
   "source": [
    "Q1 = \"Las propuestas de Muñoz\"\n",
    "score(Q1,10)"
   ]
  },
  {
   "cell_type": "markdown",
   "metadata": {},
   "source": [
    "2. \"Daniel Urresti y Muñoz\""
   ]
  },
  {
   "cell_type": "code",
   "execution_count": 15,
   "metadata": {},
   "outputs": [
    {
     "data": {
      "text/plain": [
       "{1046263372675788800: 0.7071067811865475,\n",
       " 1046263792840126464: 0.7071067811865475,\n",
       " 1046263910540738565: 0.7071067811865475,\n",
       " 1046263969118408705: 0.7071067811865475,\n",
       " 1046264126513844224: 0.7071067811865475,\n",
       " 1046264204745986048: 0.7071067811865475,\n",
       " 1046264347918577665: 0.7071067811865475,\n",
       " 1046264584712192000: 0.7071067811865475,\n",
       " 1046264599341912064: 0.7071067811865475,\n",
       " 1046264647433834496: 0.7071067811865475}"
      ]
     },
     "execution_count": 15,
     "metadata": {},
     "output_type": "execute_result"
    }
   ],
   "source": [
    "Q2 = \"Daniel Urresti y Muñoz\"\n",
    "score(Q2, 10)"
   ]
  },
  {
   "cell_type": "markdown",
   "metadata": {},
   "source": [
    "3. \"Mentiras y sicosociales\""
   ]
  },
  {
   "cell_type": "code",
   "execution_count": 18,
   "metadata": {},
   "outputs": [
    {
     "data": {
      "text/plain": [
       "{1046263372675788800: 0.7071067811865475,\n",
       " 1046263792840126464: 0.7071067811865475,\n",
       " 1046263910540738565: 0.7071067811865475,\n",
       " 1046263969118408705: 0.7071067811865475,\n",
       " 1046264126513844224: 0.7071067811865475,\n",
       " 1046264204745986048: 0.7071067811865475,\n",
       " 1046264347918577665: 0.7071067811865475,\n",
       " 1046264584712192000: 0.7071067811865475,\n",
       " 1046264599341912064: 0.7071067811865475,\n",
       " 1046264647433834496: 0.7071067811865475}"
      ]
     },
     "execution_count": 18,
     "metadata": {},
     "output_type": "execute_result"
    }
   ],
   "source": [
    "Q3 = \"Mentiras y sicosociales\"\n",
    "score(Q3,10)"
   ]
  }
 ],
 "metadata": {
  "kernelspec": {
   "display_name": "Python 3",
   "language": "python",
   "name": "python3"
  },
  "language_info": {
   "codemirror_mode": {
    "name": "ipython",
    "version": 3
   },
   "file_extension": ".py",
   "mimetype": "text/x-python",
   "name": "python",
   "nbconvert_exporter": "python",
   "pygments_lexer": "ipython3",
   "version": "3.7.3"
  }
 },
 "nbformat": 4,
 "nbformat_minor": 2
}
